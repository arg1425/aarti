{
 "cells": [
  {
   "cell_type": "code",
   "execution_count": 1,
   "metadata": {},
   "outputs": [],
   "source": [
    "# import Requests..\n",
    "import requests"
   ]
  },
  {
   "cell_type": "code",
   "execution_count": 2,
   "metadata": {},
   "outputs": [],
   "source": [
    "url =\"https://www.skysports.com/premier-league-table/2011\""
   ]
  },
  {
   "cell_type": "code",
   "execution_count": 3,
   "metadata": {},
   "outputs": [],
   "source": [
    "page = requests.get(url)"
   ]
  },
  {
   "cell_type": "code",
   "execution_count": 4,
   "metadata": {},
   "outputs": [
    {
     "name": "stdout",
     "output_type": "stream",
     "text": [
      "200\n"
     ]
    }
   ],
   "source": [
    "print(page.status_code)"
   ]
  },
  {
   "cell_type": "code",
   "execution_count": 5,
   "metadata": {},
   "outputs": [
    {
     "name": "stdout",
     "output_type": "stream",
     "text": [
      "<Response [200]>\n"
     ]
    }
   ],
   "source": [
    "print(page)"
   ]
  },
  {
   "cell_type": "code",
   "execution_count": 1,
   "metadata": {},
   "outputs": [],
   "source": [
    "#print(page.text)"
   ]
  },
  {
   "cell_type": "code",
   "execution_count": 7,
   "metadata": {},
   "outputs": [],
   "source": [
    "#import BeautifulSoup \n",
    "from bs4 import BeautifulSoup"
   ]
  },
  {
   "cell_type": "code",
   "execution_count": 9,
   "metadata": {},
   "outputs": [],
   "source": [
    "#Create object of beautifulsoup\n",
    "soup =BeautifulSoup(page.text, 'html.parser')"
   ]
  },
  {
   "cell_type": "code",
   "execution_count": 2,
   "metadata": {},
   "outputs": [],
   "source": [
    "#print(soup.prettify)"
   ]
  },
  {
   "cell_type": "code",
   "execution_count": 11,
   "metadata": {},
   "outputs": [
    {
     "name": "stdout",
     "output_type": "stream",
     "text": [
      "<a class=\"svg-logo site-header__logo\" href=\"https://www.skysports.com\">\n",
      "<img class=\"svg-logo__image\" onerror=\"this.onerror=null;this.src='/core/img/channels/Sky-Sports-Logo.png'\" src=\"/core/img/channels/Sky-Sports-Logo-transparent.svg\"/>\n",
      "</a>\n"
     ]
    }
   ],
   "source": [
    "# print anchor tag\n",
    "\n",
    "print(soup.find('a'))"
   ]
  },
  {
   "cell_type": "code",
   "execution_count": 3,
   "metadata": {},
   "outputs": [],
   "source": [
    "# print all anchor tags\n",
    "#print(soup.find_all('a'))"
   ]
  },
  {
   "cell_type": "code",
   "execution_count": 14,
   "metadata": {},
   "outputs": [
    {
     "data": {
      "text/plain": [
       "<a class=\"promotion-panel__inner-wrap\" href=\"http://www.skysports.com/transfer-centre\">\n",
       "<div class=\"promotion-panel__inner\">\n",
       "<div class=\"promotion-panel__body\">\n",
       "<picture>\n",
       "<source media=\"(min-width:481px)\" srcset=\"https://e3.365dm.com/20/08/768x432/skysports-transfer-centre-graphic_5067116.jpg?20200814085239\"/>\n",
       "<source media=\"(max-width:480px)\" srcset=\"https://e3.365dm.com/20/08/384x512/skysports-transfer-centre-graphic_5067116.jpg?20200814085239\"/>\n",
       "<img alt=\"Transfer Centre\" class=\"promotion-panel__image\" src=\"https://e3.365dm.com/20/08/1024x768/skysports-transfer-centre-graphic_5067116.jpg?20200814085239\"/>\n",
       "</picture>\n",
       "<div class=\"promotion-panel__body-inner\">\n",
       "<div class=\"promotion-panel__content\">\n",
       "<h1 class=\"promotion-panel__title\">\n",
       "                            Transfer Centre                        </h1>\n",
       "<h2 class=\"promotion-panel__abstract\">\n",
       "                            Who's going where? Get the latest across the leagues with our live blog...                        </h2>\n",
       "</div>\n",
       "</div>\n",
       "</div>\n",
       "</div>\n",
       "</a>"
      ]
     },
     "execution_count": 14,
     "metadata": {},
     "output_type": "execute_result"
    }
   ],
   "source": [
    "# print anchortag at index 2\n",
    "soup.find_all('a')[2]"
   ]
  },
  {
   "cell_type": "code",
   "execution_count": 15,
   "metadata": {},
   "outputs": [],
   "source": [
    "league = soup.find('table',class_='standing-table__table')"
   ]
  },
  {
   "cell_type": "code",
   "execution_count": 4,
   "metadata": {},
   "outputs": [],
   "source": [
    "#print(league)"
   ]
  },
  {
   "cell_type": "code",
   "execution_count": 17,
   "metadata": {},
   "outputs": [],
   "source": [
    "league_table =league.find_all('tbody')"
   ]
  },
  {
   "cell_type": "code",
   "execution_count": 5,
   "metadata": {},
   "outputs": [],
   "source": [
    "#print(league_table)"
   ]
  },
  {
   "cell_type": "code",
   "execution_count": 23,
   "metadata": {},
   "outputs": [
    {
     "name": "stdout",
     "output_type": "stream",
     "text": [
      "Manchester City 89\n",
      "Manchester United 89\n",
      "Arsenal 70\n",
      "Tottenham Hotspur 69\n",
      "Newcastle United 65\n",
      "Chelsea 64\n",
      "Everton 56\n",
      "Liverpool 52\n",
      "Fulham 52\n",
      "West Bromwich Albion 47\n",
      "Swansea City 47\n",
      "Norwich City 47\n",
      "Sunderland 45\n",
      "Stoke City 45\n",
      "Wigan Athletic 43\n",
      "Aston Villa 38\n",
      "Queens Park Rangers 37\n",
      "Bolton Wanderers 36\n",
      "Blackburn Rovers 31\n",
      "Wolverhampton Wanderers 25\n"
     ]
    }
   ],
   "source": [
    "# extract table details\n",
    "\n",
    "for league_teams in league_table:\n",
    "    rows=league_teams.find_all('tr')\n",
    "    for row in rows:\n",
    "        team_names = row.find('td', class_ ='standing-table__cell standing-table__cell--name').text.strip()\n",
    "        team_points =row.find_all('td', class_='standing-table__cell')[9].text.strip()\n",
    "        print(team_names, team_points)"
   ]
  },
  {
   "cell_type": "code",
   "execution_count": 24,
   "metadata": {},
   "outputs": [],
   "source": [
    "import pandas as pd"
   ]
  },
  {
   "cell_type": "code",
   "execution_count": 28,
   "metadata": {},
   "outputs": [],
   "source": [
    "# create list\n",
    "league_2011=[]\n",
    "for league_teams in league_table:\n",
    "    rows=league_teams.find_all('tr')\n",
    "    for row in rows:\n",
    "        team_names = row.find('td', class_ ='standing-table__cell standing-table__cell--name').text.strip()\n",
    "        team_points =row.find_all('td', class_='standing-table__cell')[9].text.strip()\n",
    "        league_dict ={'name': team_names,\n",
    "                     'points': team_points}\n",
    "        league_2011.append(league_dict)"
   ]
  },
  {
   "cell_type": "code",
   "execution_count": 29,
   "metadata": {},
   "outputs": [
    {
     "data": {
      "text/html": [
       "<div>\n",
       "<style scoped>\n",
       "    .dataframe tbody tr th:only-of-type {\n",
       "        vertical-align: middle;\n",
       "    }\n",
       "\n",
       "    .dataframe tbody tr th {\n",
       "        vertical-align: top;\n",
       "    }\n",
       "\n",
       "    .dataframe thead th {\n",
       "        text-align: right;\n",
       "    }\n",
       "</style>\n",
       "<table border=\"1\" class=\"dataframe\">\n",
       "  <thead>\n",
       "    <tr style=\"text-align: right;\">\n",
       "      <th></th>\n",
       "      <th>name</th>\n",
       "      <th>points</th>\n",
       "    </tr>\n",
       "  </thead>\n",
       "  <tbody>\n",
       "    <tr>\n",
       "      <td>0</td>\n",
       "      <td>Manchester City</td>\n",
       "      <td>89</td>\n",
       "    </tr>\n",
       "    <tr>\n",
       "      <td>1</td>\n",
       "      <td>Manchester United</td>\n",
       "      <td>89</td>\n",
       "    </tr>\n",
       "    <tr>\n",
       "      <td>2</td>\n",
       "      <td>Arsenal</td>\n",
       "      <td>70</td>\n",
       "    </tr>\n",
       "    <tr>\n",
       "      <td>3</td>\n",
       "      <td>Tottenham Hotspur</td>\n",
       "      <td>69</td>\n",
       "    </tr>\n",
       "    <tr>\n",
       "      <td>4</td>\n",
       "      <td>Newcastle United</td>\n",
       "      <td>65</td>\n",
       "    </tr>\n",
       "  </tbody>\n",
       "</table>\n",
       "</div>"
      ],
      "text/plain": [
       "                name points\n",
       "0    Manchester City     89\n",
       "1  Manchester United     89\n",
       "2            Arsenal     70\n",
       "3  Tottenham Hotspur     69\n",
       "4   Newcastle United     65"
      ]
     },
     "execution_count": 29,
     "metadata": {},
     "output_type": "execute_result"
    }
   ],
   "source": [
    "# define a DataFrame\n",
    "\n",
    "df = pd.DataFrame(league_2011)\n",
    "df.head()"
   ]
  },
  {
   "cell_type": "code",
   "execution_count": 30,
   "metadata": {},
   "outputs": [
    {
     "data": {
      "text/html": [
       "<div>\n",
       "<style scoped>\n",
       "    .dataframe tbody tr th:only-of-type {\n",
       "        vertical-align: middle;\n",
       "    }\n",
       "\n",
       "    .dataframe tbody tr th {\n",
       "        vertical-align: top;\n",
       "    }\n",
       "\n",
       "    .dataframe thead th {\n",
       "        text-align: right;\n",
       "    }\n",
       "</style>\n",
       "<table border=\"1\" class=\"dataframe\">\n",
       "  <thead>\n",
       "    <tr style=\"text-align: right;\">\n",
       "      <th></th>\n",
       "      <th>name</th>\n",
       "      <th>points</th>\n",
       "    </tr>\n",
       "  </thead>\n",
       "  <tbody>\n",
       "    <tr>\n",
       "      <td>0</td>\n",
       "      <td>Manchester City</td>\n",
       "      <td>89</td>\n",
       "    </tr>\n",
       "    <tr>\n",
       "      <td>1</td>\n",
       "      <td>Manchester United</td>\n",
       "      <td>89</td>\n",
       "    </tr>\n",
       "    <tr>\n",
       "      <td>2</td>\n",
       "      <td>Arsenal</td>\n",
       "      <td>70</td>\n",
       "    </tr>\n",
       "    <tr>\n",
       "      <td>3</td>\n",
       "      <td>Tottenham Hotspur</td>\n",
       "      <td>69</td>\n",
       "    </tr>\n",
       "    <tr>\n",
       "      <td>4</td>\n",
       "      <td>Newcastle United</td>\n",
       "      <td>65</td>\n",
       "    </tr>\n",
       "    <tr>\n",
       "      <td>5</td>\n",
       "      <td>Chelsea</td>\n",
       "      <td>64</td>\n",
       "    </tr>\n",
       "    <tr>\n",
       "      <td>6</td>\n",
       "      <td>Everton</td>\n",
       "      <td>56</td>\n",
       "    </tr>\n",
       "    <tr>\n",
       "      <td>7</td>\n",
       "      <td>Liverpool</td>\n",
       "      <td>52</td>\n",
       "    </tr>\n",
       "    <tr>\n",
       "      <td>8</td>\n",
       "      <td>Fulham</td>\n",
       "      <td>52</td>\n",
       "    </tr>\n",
       "    <tr>\n",
       "      <td>9</td>\n",
       "      <td>West Bromwich Albion</td>\n",
       "      <td>47</td>\n",
       "    </tr>\n",
       "    <tr>\n",
       "      <td>10</td>\n",
       "      <td>Swansea City</td>\n",
       "      <td>47</td>\n",
       "    </tr>\n",
       "    <tr>\n",
       "      <td>11</td>\n",
       "      <td>Norwich City</td>\n",
       "      <td>47</td>\n",
       "    </tr>\n",
       "    <tr>\n",
       "      <td>12</td>\n",
       "      <td>Sunderland</td>\n",
       "      <td>45</td>\n",
       "    </tr>\n",
       "    <tr>\n",
       "      <td>13</td>\n",
       "      <td>Stoke City</td>\n",
       "      <td>45</td>\n",
       "    </tr>\n",
       "    <tr>\n",
       "      <td>14</td>\n",
       "      <td>Wigan Athletic</td>\n",
       "      <td>43</td>\n",
       "    </tr>\n",
       "    <tr>\n",
       "      <td>15</td>\n",
       "      <td>Aston Villa</td>\n",
       "      <td>38</td>\n",
       "    </tr>\n",
       "    <tr>\n",
       "      <td>16</td>\n",
       "      <td>Queens Park Rangers</td>\n",
       "      <td>37</td>\n",
       "    </tr>\n",
       "    <tr>\n",
       "      <td>17</td>\n",
       "      <td>Bolton Wanderers</td>\n",
       "      <td>36</td>\n",
       "    </tr>\n",
       "    <tr>\n",
       "      <td>18</td>\n",
       "      <td>Blackburn Rovers</td>\n",
       "      <td>31</td>\n",
       "    </tr>\n",
       "    <tr>\n",
       "      <td>19</td>\n",
       "      <td>Wolverhampton Wanderers</td>\n",
       "      <td>25</td>\n",
       "    </tr>\n",
       "  </tbody>\n",
       "</table>\n",
       "</div>"
      ],
      "text/plain": [
       "                       name points\n",
       "0           Manchester City     89\n",
       "1         Manchester United     89\n",
       "2                   Arsenal     70\n",
       "3         Tottenham Hotspur     69\n",
       "4          Newcastle United     65\n",
       "5                   Chelsea     64\n",
       "6                   Everton     56\n",
       "7                 Liverpool     52\n",
       "8                    Fulham     52\n",
       "9      West Bromwich Albion     47\n",
       "10             Swansea City     47\n",
       "11             Norwich City     47\n",
       "12               Sunderland     45\n",
       "13               Stoke City     45\n",
       "14           Wigan Athletic     43\n",
       "15              Aston Villa     38\n",
       "16      Queens Park Rangers     37\n",
       "17         Bolton Wanderers     36\n",
       "18         Blackburn Rovers     31\n",
       "19  Wolverhampton Wanderers     25"
      ]
     },
     "execution_count": 30,
     "metadata": {},
     "output_type": "execute_result"
    }
   ],
   "source": [
    "df"
   ]
  },
  {
   "cell_type": "code",
   "execution_count": null,
   "metadata": {},
   "outputs": [],
   "source": []
  }
 ],
 "metadata": {
  "kernelspec": {
   "display_name": "Python 3",
   "language": "python",
   "name": "python3"
  },
  "language_info": {
   "codemirror_mode": {
    "name": "ipython",
    "version": 3
   },
   "file_extension": ".py",
   "mimetype": "text/x-python",
   "name": "python",
   "nbconvert_exporter": "python",
   "pygments_lexer": "ipython3",
   "version": "3.7.4"
  }
 },
 "nbformat": 4,
 "nbformat_minor": 2
}
